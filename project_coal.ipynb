{
 "cells": [
  {
   "cell_type": "code",
   "execution_count": 1,
   "id": "913e9b77",
   "metadata": {},
   "outputs": [],
   "source": [
    "import pandas as pd\n",
    "import glob\n",
    "import os\n",
    "import re"
   ]
  },
  {
   "cell_type": "code",
   "execution_count": 2,
   "id": "da204440",
   "metadata": {},
   "outputs": [],
   "source": [
    "fileslist=glob.glob(r\"C:\\Users\\Roman\\Desktop\\Coal_2021\\*.txt\")\n",
    "regex_filename=r\".*\\\\\"\n",
    "result = pd.DataFrame(columns=['№',\n",
    "                               'Адрес отгрузки (котельная)',\n",
    "                               'Дата отгрузки',\n",
    "                               'Марка, гос.номер транспорта',\n",
    "                               'ФИО водителя',\n",
    "                               'Наименование органа исполнителя',\n",
    "                               'Реквизиты транспортной накладной',\n",
    "                               'Принимающий из ЖКС',\n",
    "                               'Примечания',\n",
    "                               'Файл'\n",
    "                              ])"
   ]
  },
  {
   "cell_type": "code",
   "execution_count": 3,
   "id": "671e7367",
   "metadata": {},
   "outputs": [],
   "source": [
    "\"\"\"Поиск номера транспортной накладной и даты\"\"\"\n",
    "def find_tranport_document_number(content_):\n",
    "    content = content_\n",
    "    start_string = \"Дата\"\n",
    "    end_string = \"Дата\"\n",
    "    try:\n",
    "        start_string_index = re.search(start_string,content).end()\n",
    "        content = content[start_string_index:]\n",
    "        end_string_index = re.search(end_string,content).start()\n",
    "        content = content[:end_string_index]\n",
    "        return content.strip().replace(\",\",\".\")\n",
    "    except:\n",
    "        return \"\""
   ]
  },
  {
   "cell_type": "code",
   "execution_count": 4,
   "id": "2ba83ace",
   "metadata": {},
   "outputs": [],
   "source": [
    "\"\"\"Поиск получателя угля\"\"\"\n",
    "def find_recipient(content_):\n",
    "    content = content_\n",
    "    start_string_1 = \"Лицо, от которого забирается груз\"\n",
    "    start_string_2 = \"для юридического лица\\)\"\n",
    "    end_string = \"\\(адрес места погрузки\"\n",
    "    try:\n",
    "        start_string_index = re.search(start_string_1,content).end()\n",
    "        content = content[start_string_index:]\n",
    "        start_string_index = re.search(start_string_2,content).end()\n",
    "        content = content[start_string_index:]\n",
    "        end_string_index = re.search(end_string,content).start()\n",
    "        content = content[:end_string_index]\n",
    "        return content.strip()\n",
    "    except:\n",
    "        return \"\""
   ]
  },
  {
   "cell_type": "code",
   "execution_count": 5,
   "id": "f798ba67",
   "metadata": {},
   "outputs": [],
   "source": [
    "\"\"\"Поиск фио представителя ЖКС получателя угля\"\"\"\n",
    "def find_person_recipient(content_):\n",
    "    content = content_\n",
    "    start_string = \"Начальник котельной\"\n",
    "    pattern = \"[А-Я][а-я]{1,20}\\s[А-Я]\\.[А-Я]\\.\"\n",
    "    try:\n",
    "        start_string_index = re.search(start_string,content).end()\n",
    "        content = content[start_string_index:]\n",
    "        fio_ = re.search(pattern, content).group(0)\n",
    "        return fio_.strip()\n",
    "    except:\n",
    "        return \"\""
   ]
  },
  {
   "cell_type": "code",
   "execution_count": 6,
   "id": "41ff3e32",
   "metadata": {},
   "outputs": [],
   "source": [
    "\"\"\"Поиск даты и времени отгрузки угля\"\"\"\n",
    "def find_datetime(content_):\n",
    "    content = content_\n",
    "    start_string = \"\\(дата и время подачи транспортного средства под выгрузку\\)\"\n",
    "    end_string = \"\\(фактические дата\"\n",
    "    try:\n",
    "        start_string_index = re.search(start_string,content).end()\n",
    "        content = content[start_string_index:]\n",
    "        end_string_index = re.search(end_string,content).start()\n",
    "        content = content[:end_string_index]\n",
    "        return content.strip()\n",
    "    except:\n",
    "        return \"\""
   ]
  },
  {
   "cell_type": "code",
   "execution_count": 7,
   "id": "200a0e4b",
   "metadata": {},
   "outputs": [],
   "source": [
    "\"\"\"Поиск организации отправителя угля\"\"\"\n",
    "def find_sender(content_):\n",
    "    content = content_\n",
    "    start_string = \"Лицо, от которого забирается груз\"\n",
    "    end_string = \"\\(фамилия\"\n",
    "    try:\n",
    "        start_string_index = re.search(start_string,content).end()\n",
    "        content = content[start_string_index:]\n",
    "        end_string_index = re.search(end_string,content).start()\n",
    "        content = content[:end_string_index]\n",
    "        return content.strip()\n",
    "    except:\n",
    "        return \"\""
   ]
  },
  {
   "cell_type": "code",
   "execution_count": 8,
   "id": "af66a659",
   "metadata": {},
   "outputs": [],
   "source": [
    "\"\"\"Поиск автомобиля организации отправителя угля\"\"\"\n",
    "def find_car_sender(content_):\n",
    "    content = content_\n",
    "    start_string = \"Указания грузоотправителя\"\n",
    "    end_string = \"\\(параметры\"\n",
    "    try:\n",
    "        start_string_index = re.search(start_string,content).end()\n",
    "        content = content[start_string_index:]\n",
    "        end_string_index = re.search(end_string,content).start()\n",
    "        content = content[:end_string_index]\n",
    "        return content.strip()\n",
    "    except:\n",
    "        return \"\""
   ]
  },
  {
   "cell_type": "code",
   "execution_count": 9,
   "id": "bec87cd3",
   "metadata": {},
   "outputs": [],
   "source": [
    "\"\"\"Поиск фио водителя автомобиля организации отправителя угля\"\"\"\n",
    "def find_person_car_sender(content_):\n",
    "    content = content_\n",
    "    start_string = \"подписи водителя, сдавшего груз\\)\"\n",
    "    pattern = \"[А-Я][а-я]{1,20}\\s[А-Я]\\.[А-Я]\\.\"\n",
    "    try:\n",
    "        start_string_index = re.search(start_string,content).end()\n",
    "        content = content[start_string_index:]\n",
    "        fio_ = re.search(pattern, content).group(0)\n",
    "        return fio_.strip()\n",
    "    except:\n",
    "        return \"\""
   ]
  },
  {
   "cell_type": "code",
   "execution_count": 10,
   "id": "b23bd268",
   "metadata": {},
   "outputs": [],
   "source": [
    "data_item = {}\n",
    "for i in range(0, len(fileslist)):\n",
    "    filename=re.sub(regex_filename, \"\", fileslist[i])\n",
    "    with open(fileslist[i] , \"r\", encoding='utf8') as f:\n",
    "        content = f.read()\n",
    "        data_item['№'] = i + 1\n",
    "        data_item['Файл'] = filename\n",
    "        data_item['Адрес отгрузки (котельная)'] = find_recipient(content)\n",
    "        data_item['Дата отгрузки'] = find_datetime(content)\n",
    "        data_item['Марка, гос.номер транспорта'] = find_car_sender(content)\n",
    "        data_item['ФИО водителя'] = find_person_car_sender(content)\n",
    "        data_item['Наименование органа исполнителя'] = find_sender(content)\n",
    "        data_item['Реквизиты транспортной накладной'] = find_tranport_document_number(content)\n",
    "        data_item['Принимающий из ЖКС'] = find_person_recipient(content)\n",
    "        data_item['Примечания'] = \"\"\n",
    "        result = result.append(data_item, ignore_index=True)"
   ]
  },
  {
   "cell_type": "code",
   "execution_count": 11,
   "id": "75f00dc8",
   "metadata": {},
   "outputs": [],
   "source": [
    "result.to_excel(r'C:\\Users\\Roman\\Desktop\\Coal_2021\\result.xlsx', index=False, encoding='utf-8-sig')"
   ]
  }
 ],
 "metadata": {
  "kernelspec": {
   "display_name": "Python 3 (ipykernel)",
   "language": "python",
   "name": "python3"
  },
  "language_info": {
   "codemirror_mode": {
    "name": "ipython",
    "version": 3
   },
   "file_extension": ".py",
   "mimetype": "text/x-python",
   "name": "python",
   "nbconvert_exporter": "python",
   "pygments_lexer": "ipython3",
   "version": "3.9.7"
  }
 },
 "nbformat": 4,
 "nbformat_minor": 5
}
